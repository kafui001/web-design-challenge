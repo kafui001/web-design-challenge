{
 "cells": [
  {
   "cell_type": "code",
   "execution_count": 2,
   "metadata": {},
   "outputs": [],
   "source": [
    "#Set up dependencies\n",
    "import pandas as pd"
   ]
  },
  {
   "cell_type": "code",
   "execution_count": 3,
   "metadata": {},
   "outputs": [
    {
     "output_type": "execute_result",
     "data": {
      "text/plain": "                       City  Cloudiness Country        Date  Humidity    Lat  \\\nCity_ID                                                                        \n0              jacareacanga           0      BR  1528902000        62  -6.22   \n1                kaitangata         100      NZ  1528905304        94 -46.28   \n2                  goulburn          20      AU  1528905078        91 -34.75   \n3                      lata          76      IN  1528905305        89  30.78   \n4                chokurdakh           0      RU  1528905306        88  70.62   \n5                  martyush          92      RU  1528905306        94  56.40   \n6                    hobart          20      AU  1528902000        87 -42.88   \n7               broken hill           0      AU  1528905311        88 -31.97   \n8                 harnosand           0      SE  1528903200        44  62.63   \n9                 tuatapere           0      NZ  1528905312       100 -46.13   \n10             puerto ayora          90      EC  1528902000        69  -0.74   \n11       havre-saint-pierre          75      CA  1528902000        58  50.23   \n12             punta arenas           0      CL  1528902000       100 -53.16   \n13                 tasiilaq          75      GL  1528901400        60  65.61   \n14                  chapais          40      CA  1528902000        38  49.78   \n15                   avarua          40      CK  1528902000        56 -21.21   \n16                     hofn          75      IS  1528902000        87  64.25   \n17             yukamenskoye          92      RU  1528905315        98  57.89   \n18                khandbari          80      NP  1528905315        67  27.38   \n19                   bethel           1      US  1528901580        93  60.79   \n\n            Lng  Max Temp  Wind Speed  \nCity_ID                                \n0        -57.76     89.60        6.93  \n1        169.85     42.61        5.64  \n2        149.72     44.32       10.11  \n3         78.62     59.89        0.94  \n4        147.90     32.17        2.95  \n5         61.89     55.03        9.33  \n6        147.33     44.60        8.05  \n7        141.45     44.50        7.31  \n8         17.94     60.80       13.87  \n9        167.69     38.92        3.40  \n10       -90.35     77.00       13.87  \n11       -63.60     53.60       19.46  \n12       -70.91     35.60        9.17  \n13       -37.64     39.20        2.24  \n14       -74.86     59.00       10.29  \n15      -159.78     73.40       10.29  \n16       -15.21     51.80        8.05  \n17        52.24     56.65       10.22  \n18        87.21     44.59        1.39  \n19      -161.76     44.60        8.05  ",
      "text/html": "<div>\n<style scoped>\n    .dataframe tbody tr th:only-of-type {\n        vertical-align: middle;\n    }\n\n    .dataframe tbody tr th {\n        vertical-align: top;\n    }\n\n    .dataframe thead th {\n        text-align: right;\n    }\n</style>\n<table border=\"1\" class=\"dataframe\">\n  <thead>\n    <tr style=\"text-align: right;\">\n      <th></th>\n      <th>City</th>\n      <th>Cloudiness</th>\n      <th>Country</th>\n      <th>Date</th>\n      <th>Humidity</th>\n      <th>Lat</th>\n      <th>Lng</th>\n      <th>Max Temp</th>\n      <th>Wind Speed</th>\n    </tr>\n    <tr>\n      <th>City_ID</th>\n      <th></th>\n      <th></th>\n      <th></th>\n      <th></th>\n      <th></th>\n      <th></th>\n      <th></th>\n      <th></th>\n      <th></th>\n    </tr>\n  </thead>\n  <tbody>\n    <tr>\n      <th>0</th>\n      <td>jacareacanga</td>\n      <td>0</td>\n      <td>BR</td>\n      <td>1528902000</td>\n      <td>62</td>\n      <td>-6.22</td>\n      <td>-57.76</td>\n      <td>89.60</td>\n      <td>6.93</td>\n    </tr>\n    <tr>\n      <th>1</th>\n      <td>kaitangata</td>\n      <td>100</td>\n      <td>NZ</td>\n      <td>1528905304</td>\n      <td>94</td>\n      <td>-46.28</td>\n      <td>169.85</td>\n      <td>42.61</td>\n      <td>5.64</td>\n    </tr>\n    <tr>\n      <th>2</th>\n      <td>goulburn</td>\n      <td>20</td>\n      <td>AU</td>\n      <td>1528905078</td>\n      <td>91</td>\n      <td>-34.75</td>\n      <td>149.72</td>\n      <td>44.32</td>\n      <td>10.11</td>\n    </tr>\n    <tr>\n      <th>3</th>\n      <td>lata</td>\n      <td>76</td>\n      <td>IN</td>\n      <td>1528905305</td>\n      <td>89</td>\n      <td>30.78</td>\n      <td>78.62</td>\n      <td>59.89</td>\n      <td>0.94</td>\n    </tr>\n    <tr>\n      <th>4</th>\n      <td>chokurdakh</td>\n      <td>0</td>\n      <td>RU</td>\n      <td>1528905306</td>\n      <td>88</td>\n      <td>70.62</td>\n      <td>147.90</td>\n      <td>32.17</td>\n      <td>2.95</td>\n    </tr>\n    <tr>\n      <th>5</th>\n      <td>martyush</td>\n      <td>92</td>\n      <td>RU</td>\n      <td>1528905306</td>\n      <td>94</td>\n      <td>56.40</td>\n      <td>61.89</td>\n      <td>55.03</td>\n      <td>9.33</td>\n    </tr>\n    <tr>\n      <th>6</th>\n      <td>hobart</td>\n      <td>20</td>\n      <td>AU</td>\n      <td>1528902000</td>\n      <td>87</td>\n      <td>-42.88</td>\n      <td>147.33</td>\n      <td>44.60</td>\n      <td>8.05</td>\n    </tr>\n    <tr>\n      <th>7</th>\n      <td>broken hill</td>\n      <td>0</td>\n      <td>AU</td>\n      <td>1528905311</td>\n      <td>88</td>\n      <td>-31.97</td>\n      <td>141.45</td>\n      <td>44.50</td>\n      <td>7.31</td>\n    </tr>\n    <tr>\n      <th>8</th>\n      <td>harnosand</td>\n      <td>0</td>\n      <td>SE</td>\n      <td>1528903200</td>\n      <td>44</td>\n      <td>62.63</td>\n      <td>17.94</td>\n      <td>60.80</td>\n      <td>13.87</td>\n    </tr>\n    <tr>\n      <th>9</th>\n      <td>tuatapere</td>\n      <td>0</td>\n      <td>NZ</td>\n      <td>1528905312</td>\n      <td>100</td>\n      <td>-46.13</td>\n      <td>167.69</td>\n      <td>38.92</td>\n      <td>3.40</td>\n    </tr>\n    <tr>\n      <th>10</th>\n      <td>puerto ayora</td>\n      <td>90</td>\n      <td>EC</td>\n      <td>1528902000</td>\n      <td>69</td>\n      <td>-0.74</td>\n      <td>-90.35</td>\n      <td>77.00</td>\n      <td>13.87</td>\n    </tr>\n    <tr>\n      <th>11</th>\n      <td>havre-saint-pierre</td>\n      <td>75</td>\n      <td>CA</td>\n      <td>1528902000</td>\n      <td>58</td>\n      <td>50.23</td>\n      <td>-63.60</td>\n      <td>53.60</td>\n      <td>19.46</td>\n    </tr>\n    <tr>\n      <th>12</th>\n      <td>punta arenas</td>\n      <td>0</td>\n      <td>CL</td>\n      <td>1528902000</td>\n      <td>100</td>\n      <td>-53.16</td>\n      <td>-70.91</td>\n      <td>35.60</td>\n      <td>9.17</td>\n    </tr>\n    <tr>\n      <th>13</th>\n      <td>tasiilaq</td>\n      <td>75</td>\n      <td>GL</td>\n      <td>1528901400</td>\n      <td>60</td>\n      <td>65.61</td>\n      <td>-37.64</td>\n      <td>39.20</td>\n      <td>2.24</td>\n    </tr>\n    <tr>\n      <th>14</th>\n      <td>chapais</td>\n      <td>40</td>\n      <td>CA</td>\n      <td>1528902000</td>\n      <td>38</td>\n      <td>49.78</td>\n      <td>-74.86</td>\n      <td>59.00</td>\n      <td>10.29</td>\n    </tr>\n    <tr>\n      <th>15</th>\n      <td>avarua</td>\n      <td>40</td>\n      <td>CK</td>\n      <td>1528902000</td>\n      <td>56</td>\n      <td>-21.21</td>\n      <td>-159.78</td>\n      <td>73.40</td>\n      <td>10.29</td>\n    </tr>\n    <tr>\n      <th>16</th>\n      <td>hofn</td>\n      <td>75</td>\n      <td>IS</td>\n      <td>1528902000</td>\n      <td>87</td>\n      <td>64.25</td>\n      <td>-15.21</td>\n      <td>51.80</td>\n      <td>8.05</td>\n    </tr>\n    <tr>\n      <th>17</th>\n      <td>yukamenskoye</td>\n      <td>92</td>\n      <td>RU</td>\n      <td>1528905315</td>\n      <td>98</td>\n      <td>57.89</td>\n      <td>52.24</td>\n      <td>56.65</td>\n      <td>10.22</td>\n    </tr>\n    <tr>\n      <th>18</th>\n      <td>khandbari</td>\n      <td>80</td>\n      <td>NP</td>\n      <td>1528905315</td>\n      <td>67</td>\n      <td>27.38</td>\n      <td>87.21</td>\n      <td>44.59</td>\n      <td>1.39</td>\n    </tr>\n    <tr>\n      <th>19</th>\n      <td>bethel</td>\n      <td>1</td>\n      <td>US</td>\n      <td>1528901580</td>\n      <td>93</td>\n      <td>60.79</td>\n      <td>-161.76</td>\n      <td>44.60</td>\n      <td>8.05</td>\n    </tr>\n  </tbody>\n</table>\n</div>"
     },
     "metadata": {},
     "execution_count": 3
    }
   ],
   "source": [
    "#Import csv file\n",
    "table = pd.read_csv(\"Resources/cities.csv\")\n",
    "table.set_index(\"City_ID\", inplace=True)\n",
    "table.head(20)\n"
   ]
  },
  {
   "cell_type": "code",
   "execution_count": 3,
   "metadata": {},
   "outputs": [],
   "source": [
    "#Save table as html\n",
    "table.to_html(\"Data.html\")"
   ]
  },
  {
   "cell_type": "code",
   "execution_count": null,
   "metadata": {},
   "outputs": [],
   "source": []
  }
 ],
 "metadata": {
  "language_info": {
   "name": "python",
   "codemirror_mode": {
    "name": "ipython",
    "version": 3
   },
   "version": "3.7.6-final"
  },
  "orig_nbformat": 2,
  "file_extension": ".py",
  "mimetype": "text/x-python",
  "name": "python",
  "npconvert_exporter": "python",
  "pygments_lexer": "ipython3",
  "version": 3,
  "kernelspec": {
   "name": "python37664bitpythondatacondaf32c76a603324f80aa4cddb49579dbf2",
   "display_name": "Python 3.7.6 64-bit ('PythonData': conda)"
  }
 },
 "nbformat": 4,
 "nbformat_minor": 2
}